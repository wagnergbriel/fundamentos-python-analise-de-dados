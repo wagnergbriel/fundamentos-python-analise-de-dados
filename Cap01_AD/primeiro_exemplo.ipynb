{
 "cells": [
  {
   "cell_type": "markdown",
   "id": "857a5377-3d02-4805-8211-d751e5490952",
   "metadata": {
    "tags": []
   },
   "source": [
    "### **Primeiro exemplo utilizando Jupyter Notebook**\n",
    "\n",
    "> 😁 Testando o Jupyter Notebook"
   ]
  },
  {
   "cell_type": "code",
   "execution_count": 21,
   "id": "84106169-9eee-4eaf-8617-a35376700fc5",
   "metadata": {},
   "outputs": [],
   "source": [
    "x = 10"
   ]
  },
  {
   "cell_type": "code",
   "execution_count": 22,
   "id": "c82bb76a-b519-4fa0-aab6-0f2c3a4d2f6b",
   "metadata": {},
   "outputs": [
    {
     "name": "stdout",
     "output_type": "stream",
     "text": [
      "10\n"
     ]
    }
   ],
   "source": [
    "print(x)"
   ]
  },
  {
   "cell_type": "code",
   "execution_count": 23,
   "id": "2fe8d9f3-4b71-422c-a717-09252d9456e0",
   "metadata": {},
   "outputs": [],
   "source": [
    "x = 20"
   ]
  },
  {
   "cell_type": "code",
   "execution_count": 24,
   "id": "dc705825-8630-41b8-be3a-2c6c229e710c",
   "metadata": {
    "tags": []
   },
   "outputs": [
    {
     "name": "stdout",
     "output_type": "stream",
     "text": [
      "20\n"
     ]
    }
   ],
   "source": [
    "print(x)"
   ]
  },
  {
   "cell_type": "code",
   "execution_count": 25,
   "id": "5cc78894-51aa-4cfa-95fc-abf3219b0195",
   "metadata": {},
   "outputs": [],
   "source": [
    "def fatorial(numero: int):\n",
    "    if numero == 0:\n",
    "        return 1\n",
    "    return numero * fatorial(numero - 1)"
   ]
  },
  {
   "cell_type": "code",
   "execution_count": 26,
   "id": "f2e8865c-eaa1-4366-bb59-d77fcd735eb6",
   "metadata": {},
   "outputs": [
    {
     "data": {
      "text/plain": [
       "120"
      ]
     },
     "execution_count": 26,
     "metadata": {},
     "output_type": "execute_result"
    }
   ],
   "source": [
    "fatorial(5)"
   ]
  },
  {
   "cell_type": "code",
   "execution_count": 20,
   "id": "d2601e63-d890-46e3-8f29-1372e937ba05",
   "metadata": {},
   "outputs": [
    {
     "data": {
      "text/plain": [
       "3628800"
      ]
     },
     "execution_count": 20,
     "metadata": {},
     "output_type": "execute_result"
    }
   ],
   "source": [
    "fatorial(10)"
   ]
  }
 ],
 "metadata": {
  "kernelspec": {
   "display_name": "Python 3",
   "language": "python",
   "name": "python3"
  },
  "language_info": {
   "codemirror_mode": {
    "name": "ipython",
    "version": 3
   },
   "file_extension": ".py",
   "mimetype": "text/x-python",
   "name": "python",
   "nbconvert_exporter": "python",
   "pygments_lexer": "ipython3",
   "version": "3.8.10"
  }
 },
 "nbformat": 4,
 "nbformat_minor": 5
}
