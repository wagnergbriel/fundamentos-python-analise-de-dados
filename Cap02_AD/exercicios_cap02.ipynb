{
 "cells": [
  {
   "cell_type": "markdown",
   "id": "429a0385-071f-493e-a414-fa6e252d2796",
   "metadata": {
    "tags": []
   },
   "source": [
    "### **Exercícios do Cápitulo 2 do curso de Análise de Dados - Data Science Academy**\n",
    "\n",
    "#### **Lista de Exercícios**\n",
    "\n",
    "1. Imprima na tela os números de 1 a 10. Use uma lista para armazenar os números.\n",
    "2. Crie uma lista de 5 objetos e imprima na tela\n",
    "3. Crie duas strings e concatene as duas em uma terceira string\n",
    "4. Crie uma tupla com os seguintes elementos: 1, 2, 2, 3, 4, 4, 4, 5 e depois utilize a função count do objeto tupla para verificar quantas vezes o número 4 aparece na tupla\n",
    "5. Crie um dicionário vazio e imprima na tela\n",
    "6. Crie um dicionário com 3 chaves e 3 valores e imprima na tela\n",
    "7. Adicione mais um elemento ao dicionário criado no exercício anterior e imprima na tela\n",
    "8. Crie um dicionário com 3 chaves e 3 valores. Um dos valores deve ser uma lista de 2 elementos numéricos.Imprima o dicionário na tela.\n",
    "9. Crie uma lista de 4 elementos. O primeiro elemento deve ser uma string, o segundo uma tupla de 2 elementos, o terceiro um dcionário com 2 chaves e 2 valores e o quarto elemento um valor do tipo float. Imprima a lista na tela.\n",
    "10.  Considere a string. Imprima na tela apenas os caracteres da posição 1 a 18. \"frase = 'Cientista de Dados é o profissional mais sexy do século XXI'\""
   ]
  },
  {
   "cell_type": "code",
   "execution_count": 15,
   "id": "bfb41c2a-1198-4613-82f6-05b6aa96f81c",
   "metadata": {},
   "outputs": [
    {
     "name": "stdout",
     "output_type": "stream",
     "text": [
      "[1, 2, 3, 4, 5, 6, 7, 8, 9, 10]\n"
     ]
    }
   ],
   "source": [
    "#Exercício 1\n",
    "list_of_numbers = []\n",
    "for number in range(1, 10 + 1):\n",
    "    list_of_numbers.append(number)\n",
    "print(list_of_numbers)"
   ]
  },
  {
   "cell_type": "code",
   "execution_count": 16,
   "id": "6503e71a-cdee-40e9-bdb8-2b29ac1b0536",
   "metadata": {
    "tags": []
   },
   "outputs": [
    {
     "name": "stdout",
     "output_type": "stream",
     "text": [
      "['bola', 'cadeira', 'cama', 'computador', 'notebook']\n"
     ]
    }
   ],
   "source": [
    "#Exercício 2\n",
    "list_of_objects = [\"bola\", \"cadeira\", \"cama\", \"computador\", \"notebook\"]\n",
    "print(list_of_objects)"
   ]
  },
  {
   "cell_type": "code",
   "execution_count": 17,
   "id": "56550be9-9d50-4379-9986-7431534beb46",
   "metadata": {},
   "outputs": [
    {
     "name": "stdout",
     "output_type": "stream",
     "text": [
      "OlaMundo\n"
     ]
    }
   ],
   "source": [
    "#Exercício 3\n",
    "string_one = \"Ola\"\n",
    "string_two = \"Mundo\"\n",
    "print(string_one + string_two)"
   ]
  },
  {
   "cell_type": "code",
   "execution_count": 18,
   "id": "3f3d6bd0-e75e-4d91-9f00-b2725c17afaf",
   "metadata": {},
   "outputs": [
    {
     "name": "stdout",
     "output_type": "stream",
     "text": [
      "3\n"
     ]
    }
   ],
   "source": [
    "#Exercício 4\n",
    "tuple_of_numbers = (1, 2, 2, 3, 4, 4, 4, 5)\n",
    "print(tuple_of_numbers.count(4))"
   ]
  },
  {
   "cell_type": "code",
   "execution_count": 19,
   "id": "f85bcf2f-17a1-454a-b961-094e7ce43b39",
   "metadata": {},
   "outputs": [
    {
     "name": "stdout",
     "output_type": "stream",
     "text": [
      "{}\n"
     ]
    }
   ],
   "source": [
    "#Exercício 5\n",
    "dict_empty = {}\n",
    "print(dict_empty)"
   ]
  },
  {
   "cell_type": "code",
   "execution_count": 21,
   "id": "c2fa1587-ff3d-4b96-910c-4bd0440bff42",
   "metadata": {},
   "outputs": [
    {
     "name": "stdout",
     "output_type": "stream",
     "text": [
      "{'autor': 'Wagner Gabriel', 'title': 'Data Analitcs'}\n"
     ]
    }
   ],
   "source": [
    "#Exercício 6\n",
    "book = {\n",
    "    \"autor\": \"Wagner Gabriel\",\n",
    "    \"title\": \"Data Analitcs\" \n",
    "}\n",
    "print(book)"
   ]
  },
  {
   "cell_type": "code",
   "execution_count": 24,
   "id": "da472b41-2afb-48ec-b3c1-ca54c9976d6b",
   "metadata": {},
   "outputs": [
    {
     "name": "stdout",
     "output_type": "stream",
     "text": [
      "{'autor': 'Wagner Gabriel', 'title': 'Data Analitcs', 'year': 25}\n"
     ]
    }
   ],
   "source": [
    "#Exercício 7\n",
    "book[\"year\"] = 25\n",
    "print(book)"
   ]
  },
  {
   "cell_type": "code",
   "execution_count": 25,
   "id": "19db2c81-13b8-4aea-8a61-d562c92c99f2",
   "metadata": {},
   "outputs": [
    {
     "name": "stdout",
     "output_type": "stream",
     "text": [
      "{'a': 1, 'b': 2, 'c': [10, 20]}\n"
     ]
    }
   ],
   "source": [
    "#Exercício 8\n",
    "dict_ = {\n",
    "    \"a\": 1,\n",
    "    \"b\": 2,\n",
    "    \"c\": [10, 20]\n",
    "}\n",
    "print(dict_)"
   ]
  },
  {
   "cell_type": "code",
   "execution_count": 26,
   "id": "7f60612e-4346-4230-953d-429205f0897c",
   "metadata": {},
   "outputs": [
    {
     "name": "stdout",
     "output_type": "stream",
     "text": [
      "['a', (10, 20), {'a': 1, 'b': 2}, 5.0]\n"
     ]
    }
   ],
   "source": [
    "list_of_elements = [\"a\", (10, 20), {\"a\": 1, \"b\": 2}, 5.0]\n",
    "print(list_of_elements)"
   ]
  },
  {
   "cell_type": "code",
   "execution_count": 31,
   "id": "418eb6aa-d750-4b86-8c18-334b3c493804",
   "metadata": {},
   "outputs": [
    {
     "name": "stdout",
     "output_type": "stream",
     "text": [
      "Cientista de Dados\n"
     ]
    }
   ],
   "source": [
    "#Exercício 10\n",
    "frase = 'Cientista de Dados é o profissional mais sexy do século XXI'\n",
    "print(frase[0:18])"
   ]
  }
 ],
 "metadata": {
  "kernelspec": {
   "display_name": "Python 3",
   "language": "python",
   "name": "python3"
  },
  "language_info": {
   "codemirror_mode": {
    "name": "ipython",
    "version": 3
   },
   "file_extension": ".py",
   "mimetype": "text/x-python",
   "name": "python",
   "nbconvert_exporter": "python",
   "pygments_lexer": "ipython3",
   "version": "3.8.10"
  }
 },
 "nbformat": 4,
 "nbformat_minor": 5
}
