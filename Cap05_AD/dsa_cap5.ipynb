{
 "cells": [
  {
   "cell_type": "markdown",
   "metadata": {
    "id": "LmVGuv4b5L_z"
   },
   "source": [
    "### Exercícios Python Fundamentos - Capítulo 5"
   ]
  },
  {
   "cell_type": "code",
   "execution_count": 1,
   "metadata": {
    "colab": {
     "base_uri": "https://localhost:8080/"
    },
    "executionInfo": {
     "elapsed": 255,
     "status": "ok",
     "timestamp": 1657033800141,
     "user": {
      "displayName": "Wagner Gabriel",
      "userId": "15675940146200462922"
     },
     "user_tz": 180
    },
    "id": "AcVcX7fn4SKw",
    "outputId": "ed40af1a-269c-4a8b-be9f-c835c3775739"
   },
   "outputs": [
    {
     "name": "stdout",
     "output_type": "stream",
     "text": [
      "8 7\n"
     ]
    }
   ],
   "source": [
    "# Exercício 1 - Crie um objeto a partir da classe abaixo, chamado roc1, passando 2 parâmetros e depois faça uma chamada\n",
    "# aos atributos e métodos\n",
    "from math import sqrt\n",
    "\n",
    "class Rocket():\n",
    "     \n",
    "    def __init__(self, x=0, y=0):\n",
    "        self.x = x\n",
    "        self.y = y\n",
    "        \n",
    "    def move_rocket(self, x_increment=0, y_increment=1):\n",
    "        self.x += x_increment\n",
    "        self.y += y_increment\n",
    "        \n",
    "    def print_rocket(self):\n",
    "        print(self.x, self.y)\n",
    "\n",
    "roc1 = Rocket(8, 6)\n",
    "roc1.move_rocket()\n",
    "roc1.print_rocket()"
   ]
  },
  {
   "cell_type": "code",
   "execution_count": 2,
   "metadata": {
    "colab": {
     "base_uri": "https://localhost:8080/",
     "height": 35
    },
    "executionInfo": {
     "elapsed": 257,
     "status": "ok",
     "timestamp": 1657038777668,
     "user": {
      "displayName": "Wagner Gabriel",
      "userId": "15675940146200462922"
     },
     "user_tz": 180
    },
    "id": "zGwlY_7_6QVy",
    "outputId": "d7cddc0e-c3c3-4507-9677-9e54abce5cfc"
   },
   "outputs": [
    {
     "data": {
      "text/plain": [
       "'<__main__.Pessoa object at 0x7ff52cdc4610>'"
      ]
     },
     "execution_count": 2,
     "metadata": {},
     "output_type": "execute_result"
    }
   ],
   "source": [
    "# Exercício 2 - Crie uma classe chamada Pessoa() com os atributos: nome, cidade, telefone e e-mail. Use pelo menos 2\n",
    "# métodos especiais na sua classe. Crie um objeto da sua classe e faça uma chamada a pelo menos um dos seus métodos\n",
    "# especiais.\n",
    "\n",
    "class Pessoa():\n",
    "  \n",
    "  def __init__(self, nome, cidade, telefone, email):\n",
    "    self.nome = nome\n",
    "    self.cidade = cidade\n",
    "    self.telefone = telefone\n",
    "    self.email = email\n",
    "\n",
    "    def __str__(self):\n",
    "      return f\"Nome: {self.nome}, Telefone: {self.telefone}, Cidade: {self.cidade}, Email: {self.email}\"\n",
    "\n",
    "pessoa = Pessoa(\"Wagner\", 99999999, \"RJ\", \"email@email.com\")\n",
    "str(pessoa)\n",
    "      "
   ]
  },
  {
   "cell_type": "code",
   "execution_count": 3,
   "metadata": {
    "colab": {
     "base_uri": "https://localhost:8080/"
    },
    "executionInfo": {
     "elapsed": 226,
     "status": "ok",
     "timestamp": 1657039241191,
     "user": {
      "displayName": "Wagner Gabriel",
      "userId": "15675940146200462922"
     },
     "user_tz": 180
    },
    "id": "Dy-V54-nMCho",
    "outputId": "b1052b47-2ac5-46c1-cb5f-5d0cae079b6a"
   },
   "outputs": [
    {
     "name": "stdout",
     "output_type": "stream",
     "text": [
      "Informações do Smartphone: Grande, 128GB, Led\n"
     ]
    }
   ],
   "source": [
    "# Exercício 3 - Crie a classe Smartphone com 2 atributos, tamanho e interface e crie a classe MP3Player com os \n",
    "# atributos capacidade. A classe MP3player deve herdar os atributos da classe Smartphone.\n",
    "\n",
    "class Smartphone():\n",
    "\n",
    "  def __init__(self, tamanho, interface):\n",
    "    self.tamanho = tamanho\n",
    "    self.interface = interface\n",
    "\n",
    "class MP3Player(Smartphone):\n",
    "\n",
    "  def __init__(self, capacidade, tamanho=\"Grande\", interface=\"Led\"):\n",
    "    self.capacidade = capacidade\n",
    "    Smartphone.__init__(self, tamanho, interface)\n",
    "  \n",
    "  def print_mp3player(self):\n",
    "    print(f\"Informações do Smartphone: {self.tamanho}, {self.capacidade}, {self.interface}\")\n",
    "\n",
    "celular = MP3Player(\"128GB\")\n",
    "celular.print_mp3player()"
   ]
  },
  {
   "cell_type": "code",
   "execution_count": null,
   "metadata": {},
   "outputs": [],
   "source": []
  }
 ],
 "metadata": {
  "colab": {
   "authorship_tag": "ABX9TyOV72z6pIxkda4ZYo5kWJ/w",
   "collapsed_sections": [],
   "name": "dsa_cap5.ipynb",
   "provenance": []
  },
  "kernelspec": {
   "display_name": "Python 3",
   "language": "python",
   "name": "python3"
  },
  "language_info": {
   "codemirror_mode": {
    "name": "ipython",
    "version": 3
   },
   "file_extension": ".py",
   "mimetype": "text/x-python",
   "name": "python",
   "nbconvert_exporter": "python",
   "pygments_lexer": "ipython3",
   "version": "3.8.10"
  }
 },
 "nbformat": 4,
 "nbformat_minor": 4
}
